{
 "cells": [
  {
   "cell_type": "code",
   "execution_count": 4,
   "metadata": {},
   "outputs": [],
   "source": [
    "import numpy as np\n",
    "import pandas as pd\n",
    "import matplotlib.pyplot as plt\n",
    "%matplotlib inline"
   ]
  },
  {
   "cell_type": "code",
   "execution_count": 5,
   "metadata": {},
   "outputs": [],
   "source": [
    "import yfinance as yf  "
   ]
  },
  {
   "cell_type": "code",
   "execution_count": 6,
   "metadata": {},
   "outputs": [],
   "source": [
    "#data = yf.download('PKN.PR','2015-01-01','2020-01-01')"
   ]
  },
  {
   "cell_type": "code",
   "execution_count": 7,
   "metadata": {},
   "outputs": [
    {
     "ename": "NameError",
     "evalue": "name 'data' is not defined",
     "output_type": "error",
     "traceback": [
      "\u001b[1;31m---------------------------------------------------------------------------\u001b[0m",
      "\u001b[1;31mNameError\u001b[0m                                 Traceback (most recent call last)",
      "\u001b[1;32m<ipython-input-7-417f350dddc0>\u001b[0m in \u001b[0;36m<module>\u001b[1;34m\u001b[0m\n\u001b[1;32m----> 1\u001b[1;33m \u001b[0mdata\u001b[0m\u001b[1;33m[\u001b[0m\u001b[1;34m\"Adj Close\"\u001b[0m\u001b[1;33m]\u001b[0m\u001b[1;33m.\u001b[0m\u001b[0mplot\u001b[0m\u001b[1;33m(\u001b[0m\u001b[1;33m)\u001b[0m\u001b[1;33m\u001b[0m\u001b[1;33m\u001b[0m\u001b[0m\n\u001b[0m\u001b[0;32m      2\u001b[0m \u001b[0mplt\u001b[0m\u001b[1;33m.\u001b[0m\u001b[0mshow\u001b[0m\u001b[1;33m(\u001b[0m\u001b[1;33m)\u001b[0m\u001b[1;33m\u001b[0m\u001b[1;33m\u001b[0m\u001b[0m\n",
      "\u001b[1;31mNameError\u001b[0m: name 'data' is not defined"
     ]
    }
   ],
   "source": [
    "#data[\"Adj Close\"].plot()\n",
    "#plt.show()"
   ]
  },
  {
   "cell_type": "code",
   "execution_count": 8,
   "metadata": {},
   "outputs": [],
   "source": [
    "from urllib.request import urlretrieve\n",
    "from datetime import datetime\n",
    "import pandas as pd"
   ]
  },
  {
   "cell_type": "code",
   "execution_count": 9,
   "metadata": {},
   "outputs": [],
   "source": [
    "ticker = 'WIG'\n",
    "interval = 'd'"
   ]
  },
  {
   "cell_type": "code",
   "execution_count": 10,
   "metadata": {},
   "outputs": [],
   "source": [
    "url = f'https://stooq.com/q/d/l/?s={ticker}&i={interval}'"
   ]
  },
  {
   "cell_type": "code",
   "execution_count": 11,
   "metadata": {},
   "outputs": [],
   "source": [
    "csv_file = ticker + '.csv'"
   ]
  },
  {
   "cell_type": "code",
   "execution_count": 12,
   "metadata": {},
   "outputs": [
    {
     "data": {
      "text/plain": [
       "('WIG.csv', <http.client.HTTPMessage at 0x1c8203a6e88>)"
      ]
     },
     "execution_count": 12,
     "metadata": {},
     "output_type": "execute_result"
    }
   ],
   "source": [
    "urlretrieve(url, csv_file)"
   ]
  },
  {
   "cell_type": "code",
   "execution_count": 13,
   "metadata": {},
   "outputs": [
    {
     "data": {
      "text/html": [
       "<div>\n",
       "<style scoped>\n",
       "    .dataframe tbody tr th:only-of-type {\n",
       "        vertical-align: middle;\n",
       "    }\n",
       "\n",
       "    .dataframe tbody tr th {\n",
       "        vertical-align: top;\n",
       "    }\n",
       "\n",
       "    .dataframe thead th {\n",
       "        text-align: right;\n",
       "    }\n",
       "</style>\n",
       "<table border=\"1\" class=\"dataframe\">\n",
       "  <thead>\n",
       "    <tr style=\"text-align: right;\">\n",
       "      <th></th>\n",
       "      <th>Open</th>\n",
       "      <th>High</th>\n",
       "      <th>Low</th>\n",
       "      <th>Close</th>\n",
       "      <th>Volume</th>\n",
       "    </tr>\n",
       "    <tr>\n",
       "      <th>Date</th>\n",
       "      <th></th>\n",
       "      <th></th>\n",
       "      <th></th>\n",
       "      <th></th>\n",
       "      <th></th>\n",
       "    </tr>\n",
       "  </thead>\n",
       "  <tbody>\n",
       "    <tr>\n",
       "      <th>2022-02-10</th>\n",
       "      <td>68624.07</td>\n",
       "      <td>68664.83</td>\n",
       "      <td>67669.20</td>\n",
       "      <td>67939.86</td>\n",
       "      <td>30294795.0</td>\n",
       "    </tr>\n",
       "    <tr>\n",
       "      <th>2022-02-11</th>\n",
       "      <td>67450.64</td>\n",
       "      <td>67670.97</td>\n",
       "      <td>66748.24</td>\n",
       "      <td>67618.00</td>\n",
       "      <td>28239248.0</td>\n",
       "    </tr>\n",
       "    <tr>\n",
       "      <th>2022-02-14</th>\n",
       "      <td>66135.16</td>\n",
       "      <td>66494.34</td>\n",
       "      <td>64980.65</td>\n",
       "      <td>66094.22</td>\n",
       "      <td>49971133.0</td>\n",
       "    </tr>\n",
       "    <tr>\n",
       "      <th>2022-02-15</th>\n",
       "      <td>66444.36</td>\n",
       "      <td>67889.91</td>\n",
       "      <td>66444.36</td>\n",
       "      <td>67532.04</td>\n",
       "      <td>36501183.0</td>\n",
       "    </tr>\n",
       "    <tr>\n",
       "      <th>2022-02-16</th>\n",
       "      <td>68242.16</td>\n",
       "      <td>68537.26</td>\n",
       "      <td>67341.97</td>\n",
       "      <td>67607.05</td>\n",
       "      <td>33950735.0</td>\n",
       "    </tr>\n",
       "  </tbody>\n",
       "</table>\n",
       "</div>"
      ],
      "text/plain": [
       "                Open      High       Low     Close      Volume\n",
       "Date                                                          \n",
       "2022-02-10  68624.07  68664.83  67669.20  67939.86  30294795.0\n",
       "2022-02-11  67450.64  67670.97  66748.24  67618.00  28239248.0\n",
       "2022-02-14  66135.16  66494.34  64980.65  66094.22  49971133.0\n",
       "2022-02-15  66444.36  67889.91  66444.36  67532.04  36501183.0\n",
       "2022-02-16  68242.16  68537.26  67341.97  67607.05  33950735.0"
      ]
     },
     "execution_count": 13,
     "metadata": {},
     "output_type": "execute_result"
    }
   ],
   "source": [
    "data = pd.read_csv(csv_file, index_col='Date', parse_dates=['Date'],\n",
    "            date_parser=lambda x: datetime.strptime(x, '%Y-%m-%d'))\n",
    "\n",
    "data.tail()"
   ]
  },
  {
   "cell_type": "code",
   "execution_count": 14,
   "metadata": {},
   "outputs": [],
   "source": [
    "#import mplfinance as mpl"
   ]
  },
  {
   "cell_type": "code",
   "execution_count": 15,
   "metadata": {},
   "outputs": [],
   "source": [
    "#mpl.plot(data.tail(500), type='candle', volume=True)"
   ]
  },
  {
   "cell_type": "code",
   "execution_count": 16,
   "metadata": {},
   "outputs": [],
   "source": [
    "#PKN Orlen\n",
    "ticker = 'PKN'\n",
    "interval = 'd'\n",
    "url = f'https://stooq.com/q/d/l/?s={ticker}&i={interval}'\n",
    "csv_file = ticker + '.csv'\n",
    "urlretrieve(url, csv_file)\n",
    "PKN = pd.read_csv(csv_file, index_col='Date', parse_dates=['Date'],\n",
    "            date_parser=lambda x: datetime.strptime(x, '%Y-%m-%d'))\n",
    "\n",
    "#KGHM\n",
    "ticker = 'KGH'\n",
    "interval = 'd'\n",
    "url = f'https://stooq.com/q/d/l/?s={ticker}&i={interval}'\n",
    "csv_file = ticker + '.csv'\n",
    "urlretrieve(url, csv_file)\n",
    "KGH = pd.read_csv(csv_file, index_col='Date', parse_dates=['Date'],\n",
    "            date_parser=lambda x: datetime.strptime(x, '%Y-%m-%d'))\n",
    "\n",
    "\n",
    "#PKO\n",
    "ticker = 'PKO'\n",
    "interval = 'd'\n",
    "url = f'https://stooq.com/q/d/l/?s={ticker}&i={interval}'\n",
    "csv_file = ticker + '.csv'\n",
    "urlretrieve(url, csv_file)\n",
    "PKO = pd.read_csv(csv_file, index_col='Date', parse_dates=['Date'],\n",
    "            date_parser=lambda x: datetime.strptime(x, '%Y-%m-%d'))\n",
    "\n",
    "\n",
    "#PEKAO\n",
    "ticker = 'PEO'\n",
    "interval = 'd'\n",
    "url = f'https://stooq.com/q/d/l/?s={ticker}&i={interval}'\n",
    "csv_file = ticker + '.csv'\n",
    "urlretrieve(url, csv_file)\n",
    "PEO = pd.read_csv(csv_file, index_col='Date', parse_dates=['Date'],\n",
    "            date_parser=lambda x: datetime.strptime(x, '%Y-%m-%d'))\n",
    "\n",
    "#R22\n",
    "ticker = 'R22'\n",
    "interval = 'd'\n",
    "url = f'https://stooq.com/q/d/l/?s={ticker}&i={interval}'\n",
    "csv_file = ticker + '.csv'\n",
    "urlretrieve(url, csv_file)\n",
    "R22 = pd.read_csv(csv_file, index_col='Date', parse_dates=['Date'],\n",
    "            date_parser=lambda x: datetime.strptime(x, '%Y-%m-%d'))\n",
    "\n",
    "#PZU\n",
    "ticker = 'PZU'\n",
    "interval = 'd'\n",
    "url = f'https://stooq.com/q/d/l/?s={ticker}&i={interval}'\n",
    "csv_file = ticker + '.csv'\n",
    "urlretrieve(url, csv_file)\n",
    "PZU = pd.read_csv(csv_file, index_col='Date', parse_dates=['Date'],\n",
    "            date_parser=lambda x: datetime.strptime(x, '%Y-%m-%d'))\n",
    "\n",
    "#Inpost\n",
    "ticker = 'PZU'\n",
    "interval = 'd'\n",
    "url = f'https://stooq.com/q/d/l/?s={ticker}&i={interval}'\n",
    "csv_file = ticker + '.csv'\n",
    "urlretrieve(url, csv_file)\n",
    "PZU = pd.read_csv(csv_file, index_col='Date', parse_dates=['Date'],\n",
    "            date_parser=lambda x: datetime.strptime(x, '%Y-%m-%d'))\n"
   ]
  },
  {
   "cell_type": "code",
   "execution_count": 17,
   "metadata": {},
   "outputs": [
    {
     "ename": "NameError",
     "evalue": "name 'mpl' is not defined",
     "output_type": "error",
     "traceback": [
      "\u001b[1;31m---------------------------------------------------------------------------\u001b[0m",
      "\u001b[1;31mNameError\u001b[0m                                 Traceback (most recent call last)",
      "\u001b[1;32m<ipython-input-17-512a4341841f>\u001b[0m in \u001b[0;36m<module>\u001b[1;34m\u001b[0m\n\u001b[1;32m----> 1\u001b[1;33m \u001b[0mmpl\u001b[0m\u001b[1;33m.\u001b[0m\u001b[0mplot\u001b[0m\u001b[1;33m(\u001b[0m\u001b[0mR22\u001b[0m\u001b[1;33m.\u001b[0m\u001b[0mtail\u001b[0m\u001b[1;33m(\u001b[0m\u001b[1;36m500\u001b[0m\u001b[1;33m)\u001b[0m\u001b[1;33m,\u001b[0m \u001b[0mtype\u001b[0m\u001b[1;33m=\u001b[0m\u001b[1;34m'candle'\u001b[0m\u001b[1;33m,\u001b[0m \u001b[0mvolume\u001b[0m\u001b[1;33m=\u001b[0m\u001b[1;32mTrue\u001b[0m\u001b[1;33m)\u001b[0m\u001b[1;33m\u001b[0m\u001b[1;33m\u001b[0m\u001b[0m\n\u001b[0m",
      "\u001b[1;31mNameError\u001b[0m: name 'mpl' is not defined"
     ]
    }
   ],
   "source": []
  },
  {
   "cell_type": "code",
   "execution_count": 18,
   "metadata": {},
   "outputs": [],
   "source": [
    "R22_end = R22.tail(1300)\n",
    "PKN_end = PKN.tail(1300)\n",
    "PEO_end = PEO.tail(1300)\n",
    "PZU_end = PZU.tail(1300)\n",
    "KGH_end = KGH.tail(1300)\n",
    "PKO_end = PKO.tail(1300)"
   ]
  },
  {
   "cell_type": "code",
   "execution_count": 19,
   "metadata": {},
   "outputs": [
    {
     "data": {
      "text/html": [
       "<div>\n",
       "<style scoped>\n",
       "    .dataframe tbody tr th:only-of-type {\n",
       "        vertical-align: middle;\n",
       "    }\n",
       "\n",
       "    .dataframe tbody tr th {\n",
       "        vertical-align: top;\n",
       "    }\n",
       "\n",
       "    .dataframe thead th {\n",
       "        text-align: right;\n",
       "    }\n",
       "</style>\n",
       "<table border=\"1\" class=\"dataframe\">\n",
       "  <thead>\n",
       "    <tr style=\"text-align: right;\">\n",
       "      <th></th>\n",
       "      <th>Open</th>\n",
       "      <th>High</th>\n",
       "      <th>Low</th>\n",
       "      <th>Close</th>\n",
       "      <th>Volume</th>\n",
       "    </tr>\n",
       "    <tr>\n",
       "      <th>Date</th>\n",
       "      <th></th>\n",
       "      <th></th>\n",
       "      <th></th>\n",
       "      <th></th>\n",
       "      <th></th>\n",
       "    </tr>\n",
       "  </thead>\n",
       "  <tbody>\n",
       "    <tr>\n",
       "      <th>2016-12-05</th>\n",
       "      <td>22.721</td>\n",
       "      <td>23.164</td>\n",
       "      <td>22.582</td>\n",
       "      <td>23.164</td>\n",
       "      <td>1405633</td>\n",
       "    </tr>\n",
       "    <tr>\n",
       "      <th>2016-12-06</th>\n",
       "      <td>23.172</td>\n",
       "      <td>23.608</td>\n",
       "      <td>23.001</td>\n",
       "      <td>23.553</td>\n",
       "      <td>2612171</td>\n",
       "    </tr>\n",
       "    <tr>\n",
       "      <th>2016-12-07</th>\n",
       "      <td>23.537</td>\n",
       "      <td>24.407</td>\n",
       "      <td>23.437</td>\n",
       "      <td>24.399</td>\n",
       "      <td>7603634</td>\n",
       "    </tr>\n",
       "    <tr>\n",
       "      <th>2016-12-08</th>\n",
       "      <td>24.780</td>\n",
       "      <td>26.031</td>\n",
       "      <td>24.469</td>\n",
       "      <td>25.044</td>\n",
       "      <td>13506144</td>\n",
       "    </tr>\n",
       "    <tr>\n",
       "      <th>2016-12-09</th>\n",
       "      <td>25.402</td>\n",
       "      <td>25.402</td>\n",
       "      <td>24.112</td>\n",
       "      <td>24.858</td>\n",
       "      <td>6382328</td>\n",
       "    </tr>\n",
       "    <tr>\n",
       "      <th>...</th>\n",
       "      <td>...</td>\n",
       "      <td>...</td>\n",
       "      <td>...</td>\n",
       "      <td>...</td>\n",
       "      <td>...</td>\n",
       "    </tr>\n",
       "    <tr>\n",
       "      <th>2022-02-11</th>\n",
       "      <td>35.570</td>\n",
       "      <td>36.310</td>\n",
       "      <td>35.500</td>\n",
       "      <td>36.220</td>\n",
       "      <td>1800955</td>\n",
       "    </tr>\n",
       "    <tr>\n",
       "      <th>2022-02-14</th>\n",
       "      <td>35.020</td>\n",
       "      <td>35.650</td>\n",
       "      <td>34.520</td>\n",
       "      <td>35.170</td>\n",
       "      <td>2467277</td>\n",
       "    </tr>\n",
       "    <tr>\n",
       "      <th>2022-02-15</th>\n",
       "      <td>35.170</td>\n",
       "      <td>35.730</td>\n",
       "      <td>35.170</td>\n",
       "      <td>35.420</td>\n",
       "      <td>1914737</td>\n",
       "    </tr>\n",
       "    <tr>\n",
       "      <th>2022-02-16</th>\n",
       "      <td>35.790</td>\n",
       "      <td>36.370</td>\n",
       "      <td>35.550</td>\n",
       "      <td>35.880</td>\n",
       "      <td>1918287</td>\n",
       "    </tr>\n",
       "    <tr>\n",
       "      <th>2022-02-17</th>\n",
       "      <td>35.880</td>\n",
       "      <td>35.930</td>\n",
       "      <td>35.000</td>\n",
       "      <td>35.310</td>\n",
       "      <td>1925328</td>\n",
       "    </tr>\n",
       "  </tbody>\n",
       "</table>\n",
       "<p>1300 rows × 5 columns</p>\n",
       "</div>"
      ],
      "text/plain": [
       "              Open    High     Low   Close    Volume\n",
       "Date                                                \n",
       "2016-12-05  22.721  23.164  22.582  23.164   1405633\n",
       "2016-12-06  23.172  23.608  23.001  23.553   2612171\n",
       "2016-12-07  23.537  24.407  23.437  24.399   7603634\n",
       "2016-12-08  24.780  26.031  24.469  25.044  13506144\n",
       "2016-12-09  25.402  25.402  24.112  24.858   6382328\n",
       "...            ...     ...     ...     ...       ...\n",
       "2022-02-11  35.570  36.310  35.500  36.220   1800955\n",
       "2022-02-14  35.020  35.650  34.520  35.170   2467277\n",
       "2022-02-15  35.170  35.730  35.170  35.420   1914737\n",
       "2022-02-16  35.790  36.370  35.550  35.880   1918287\n",
       "2022-02-17  35.880  35.930  35.000  35.310   1925328\n",
       "\n",
       "[1300 rows x 5 columns]"
      ]
     },
     "execution_count": 19,
     "metadata": {},
     "output_type": "execute_result"
    }
   ],
   "source": [
    "PZU_end"
   ]
  },
  {
   "cell_type": "code",
   "execution_count": 20,
   "metadata": {},
   "outputs": [],
   "source": [
    "stocks = pd.concat([R22_end['Open'],PKN_end['Open'],PEO_end['Open'],PZU_end['Open'],KGH_end['Open'],PKO_end['Open']],axis=1)\n",
    "stocks.columns = ['R22','PKN','PEO','PZU','KGH','PKO']"
   ]
  },
  {
   "cell_type": "code",
   "execution_count": 21,
   "metadata": {},
   "outputs": [
    {
     "data": {
      "text/html": [
       "<div>\n",
       "<style scoped>\n",
       "    .dataframe tbody tr th:only-of-type {\n",
       "        vertical-align: middle;\n",
       "    }\n",
       "\n",
       "    .dataframe tbody tr th {\n",
       "        vertical-align: top;\n",
       "    }\n",
       "\n",
       "    .dataframe thead th {\n",
       "        text-align: right;\n",
       "    }\n",
       "</style>\n",
       "<table border=\"1\" class=\"dataframe\">\n",
       "  <thead>\n",
       "    <tr style=\"text-align: right;\">\n",
       "      <th></th>\n",
       "      <th>R22</th>\n",
       "      <th>PKN</th>\n",
       "      <th>PEO</th>\n",
       "      <th>PZU</th>\n",
       "      <th>KGH</th>\n",
       "      <th>PKO</th>\n",
       "    </tr>\n",
       "    <tr>\n",
       "      <th>Date</th>\n",
       "      <th></th>\n",
       "      <th></th>\n",
       "      <th></th>\n",
       "      <th></th>\n",
       "      <th></th>\n",
       "      <th></th>\n",
       "    </tr>\n",
       "  </thead>\n",
       "  <tbody>\n",
       "    <tr>\n",
       "      <th>2016-12-05</th>\n",
       "      <td>NaN</td>\n",
       "      <td>64.622</td>\n",
       "      <td>92.282</td>\n",
       "      <td>22.721</td>\n",
       "      <td>87.653</td>\n",
       "      <td>24.698</td>\n",
       "    </tr>\n",
       "    <tr>\n",
       "      <th>2016-12-06</th>\n",
       "      <td>NaN</td>\n",
       "      <td>68.103</td>\n",
       "      <td>95.848</td>\n",
       "      <td>23.172</td>\n",
       "      <td>90.611</td>\n",
       "      <td>25.701</td>\n",
       "    </tr>\n",
       "    <tr>\n",
       "      <th>2016-12-07</th>\n",
       "      <td>NaN</td>\n",
       "      <td>68.136</td>\n",
       "      <td>97.551</td>\n",
       "      <td>23.537</td>\n",
       "      <td>94.847</td>\n",
       "      <td>25.949</td>\n",
       "    </tr>\n",
       "    <tr>\n",
       "      <th>2016-12-08</th>\n",
       "      <td>NaN</td>\n",
       "      <td>68.187</td>\n",
       "      <td>98.220</td>\n",
       "      <td>24.780</td>\n",
       "      <td>92.636</td>\n",
       "      <td>26.943</td>\n",
       "    </tr>\n",
       "    <tr>\n",
       "      <th>2016-12-09</th>\n",
       "      <td>NaN</td>\n",
       "      <td>69.027</td>\n",
       "      <td>93.468</td>\n",
       "      <td>25.402</td>\n",
       "      <td>96.322</td>\n",
       "      <td>26.838</td>\n",
       "    </tr>\n",
       "    <tr>\n",
       "      <th>...</th>\n",
       "      <td>...</td>\n",
       "      <td>...</td>\n",
       "      <td>...</td>\n",
       "      <td>...</td>\n",
       "      <td>...</td>\n",
       "      <td>...</td>\n",
       "    </tr>\n",
       "    <tr>\n",
       "      <th>2022-02-11</th>\n",
       "      <td>44.70</td>\n",
       "      <td>70.800</td>\n",
       "      <td>134.300</td>\n",
       "      <td>35.570</td>\n",
       "      <td>148.000</td>\n",
       "      <td>47.770</td>\n",
       "    </tr>\n",
       "    <tr>\n",
       "      <th>2022-02-14</th>\n",
       "      <td>43.50</td>\n",
       "      <td>69.740</td>\n",
       "      <td>129.500</td>\n",
       "      <td>35.020</td>\n",
       "      <td>149.500</td>\n",
       "      <td>45.600</td>\n",
       "    </tr>\n",
       "    <tr>\n",
       "      <th>2022-02-15</th>\n",
       "      <td>42.65</td>\n",
       "      <td>71.220</td>\n",
       "      <td>132.000</td>\n",
       "      <td>35.170</td>\n",
       "      <td>151.000</td>\n",
       "      <td>46.800</td>\n",
       "    </tr>\n",
       "    <tr>\n",
       "      <th>2022-02-16</th>\n",
       "      <td>44.30</td>\n",
       "      <td>73.320</td>\n",
       "      <td>134.150</td>\n",
       "      <td>35.790</td>\n",
       "      <td>156.000</td>\n",
       "      <td>47.670</td>\n",
       "    </tr>\n",
       "    <tr>\n",
       "      <th>2022-02-17</th>\n",
       "      <td>43.25</td>\n",
       "      <td>73.500</td>\n",
       "      <td>135.000</td>\n",
       "      <td>35.880</td>\n",
       "      <td>154.300</td>\n",
       "      <td>47.300</td>\n",
       "    </tr>\n",
       "  </tbody>\n",
       "</table>\n",
       "<p>1300 rows × 6 columns</p>\n",
       "</div>"
      ],
      "text/plain": [
       "              R22     PKN      PEO     PZU      KGH     PKO\n",
       "Date                                                       \n",
       "2016-12-05    NaN  64.622   92.282  22.721   87.653  24.698\n",
       "2016-12-06    NaN  68.103   95.848  23.172   90.611  25.701\n",
       "2016-12-07    NaN  68.136   97.551  23.537   94.847  25.949\n",
       "2016-12-08    NaN  68.187   98.220  24.780   92.636  26.943\n",
       "2016-12-09    NaN  69.027   93.468  25.402   96.322  26.838\n",
       "...           ...     ...      ...     ...      ...     ...\n",
       "2022-02-11  44.70  70.800  134.300  35.570  148.000  47.770\n",
       "2022-02-14  43.50  69.740  129.500  35.020  149.500  45.600\n",
       "2022-02-15  42.65  71.220  132.000  35.170  151.000  46.800\n",
       "2022-02-16  44.30  73.320  134.150  35.790  156.000  47.670\n",
       "2022-02-17  43.25  73.500  135.000  35.880  154.300  47.300\n",
       "\n",
       "[1300 rows x 6 columns]"
      ]
     },
     "execution_count": 21,
     "metadata": {},
     "output_type": "execute_result"
    }
   ],
   "source": [
    "stocks"
   ]
  },
  {
   "cell_type": "code",
   "execution_count": 22,
   "metadata": {},
   "outputs": [
    {
     "data": {
      "text/plain": [
       "R22    0.001043\n",
       "PKN    0.000354\n",
       "PEO    0.000470\n",
       "PZU    0.000495\n",
       "KGH    0.000707\n",
       "PKO    0.000685\n",
       "dtype: float64"
      ]
     },
     "execution_count": 22,
     "metadata": {},
     "output_type": "execute_result"
    }
   ],
   "source": [
    "mean_daily_ret = stocks.pct_change(1).mean()\n",
    "mean_daily_ret"
   ]
  },
  {
   "cell_type": "code",
   "execution_count": 23,
   "metadata": {},
   "outputs": [
    {
     "data": {
      "text/html": [
       "<div>\n",
       "<style scoped>\n",
       "    .dataframe tbody tr th:only-of-type {\n",
       "        vertical-align: middle;\n",
       "    }\n",
       "\n",
       "    .dataframe tbody tr th {\n",
       "        vertical-align: top;\n",
       "    }\n",
       "\n",
       "    .dataframe thead th {\n",
       "        text-align: right;\n",
       "    }\n",
       "</style>\n",
       "<table border=\"1\" class=\"dataframe\">\n",
       "  <thead>\n",
       "    <tr style=\"text-align: right;\">\n",
       "      <th></th>\n",
       "      <th>R22</th>\n",
       "      <th>PKN</th>\n",
       "      <th>PEO</th>\n",
       "      <th>PZU</th>\n",
       "      <th>KGH</th>\n",
       "      <th>PKO</th>\n",
       "    </tr>\n",
       "  </thead>\n",
       "  <tbody>\n",
       "    <tr>\n",
       "      <th>R22</th>\n",
       "      <td>1.000000</td>\n",
       "      <td>0.187874</td>\n",
       "      <td>0.188497</td>\n",
       "      <td>0.170208</td>\n",
       "      <td>0.218257</td>\n",
       "      <td>0.171913</td>\n",
       "    </tr>\n",
       "    <tr>\n",
       "      <th>PKN</th>\n",
       "      <td>0.187874</td>\n",
       "      <td>1.000000</td>\n",
       "      <td>0.392282</td>\n",
       "      <td>0.403844</td>\n",
       "      <td>0.362306</td>\n",
       "      <td>0.388450</td>\n",
       "    </tr>\n",
       "    <tr>\n",
       "      <th>PEO</th>\n",
       "      <td>0.188497</td>\n",
       "      <td>0.392282</td>\n",
       "      <td>1.000000</td>\n",
       "      <td>0.549503</td>\n",
       "      <td>0.391738</td>\n",
       "      <td>0.732335</td>\n",
       "    </tr>\n",
       "    <tr>\n",
       "      <th>PZU</th>\n",
       "      <td>0.170208</td>\n",
       "      <td>0.403844</td>\n",
       "      <td>0.549503</td>\n",
       "      <td>1.000000</td>\n",
       "      <td>0.404639</td>\n",
       "      <td>0.587624</td>\n",
       "    </tr>\n",
       "    <tr>\n",
       "      <th>KGH</th>\n",
       "      <td>0.218257</td>\n",
       "      <td>0.362306</td>\n",
       "      <td>0.391738</td>\n",
       "      <td>0.404639</td>\n",
       "      <td>1.000000</td>\n",
       "      <td>0.409813</td>\n",
       "    </tr>\n",
       "    <tr>\n",
       "      <th>PKO</th>\n",
       "      <td>0.171913</td>\n",
       "      <td>0.388450</td>\n",
       "      <td>0.732335</td>\n",
       "      <td>0.587624</td>\n",
       "      <td>0.409813</td>\n",
       "      <td>1.000000</td>\n",
       "    </tr>\n",
       "  </tbody>\n",
       "</table>\n",
       "</div>"
      ],
      "text/plain": [
       "          R22       PKN       PEO       PZU       KGH       PKO\n",
       "R22  1.000000  0.187874  0.188497  0.170208  0.218257  0.171913\n",
       "PKN  0.187874  1.000000  0.392282  0.403844  0.362306  0.388450\n",
       "PEO  0.188497  0.392282  1.000000  0.549503  0.391738  0.732335\n",
       "PZU  0.170208  0.403844  0.549503  1.000000  0.404639  0.587624\n",
       "KGH  0.218257  0.362306  0.391738  0.404639  1.000000  0.409813\n",
       "PKO  0.171913  0.388450  0.732335  0.587624  0.409813  1.000000"
      ]
     },
     "execution_count": 23,
     "metadata": {},
     "output_type": "execute_result"
    }
   ],
   "source": [
    "stocks.pct_change(1).corr()"
   ]
  },
  {
   "cell_type": "code",
   "execution_count": 24,
   "metadata": {},
   "outputs": [
    {
     "data": {
      "text/plain": [
       "<matplotlib.axes._subplots.AxesSubplot at 0x1c820436c88>"
      ]
     },
     "execution_count": 24,
     "metadata": {},
     "output_type": "execute_result"
    },
    {
     "data": {
      "image/png": "[encoded data removed]",
      "text/plain": [
       "<Figure size 1152x576 with 1 Axes>"
      ]
     },
     "metadata": {
      "needs_background": "light"
     },
     "output_type": "display_data"
    }
   ],
   "source": [
    "stock_normed = stocks/stocks.iloc[0]\n",
    "stock_normed.plot(figsize=(16,8))"
   ]
  },
  {
   "cell_type": "code",
   "execution_count": 25,
   "metadata": {},
   "outputs": [
    {
     "data": {
      "text/html": [
       "<div>\n",
       "<style scoped>\n",
       "    .dataframe tbody tr th:only-of-type {\n",
       "        vertical-align: middle;\n",
       "    }\n",
       "\n",
       "    .dataframe tbody tr th {\n",
       "        vertical-align: top;\n",
       "    }\n",
       "\n",
       "    .dataframe thead th {\n",
       "        text-align: right;\n",
       "    }\n",
       "</style>\n",
       "<table border=\"1\" class=\"dataframe\">\n",
       "  <thead>\n",
       "    <tr style=\"text-align: right;\">\n",
       "      <th></th>\n",
       "      <th>R22</th>\n",
       "      <th>PKN</th>\n",
       "      <th>PEO</th>\n",
       "      <th>PZU</th>\n",
       "      <th>KGH</th>\n",
       "      <th>PKO</th>\n",
       "    </tr>\n",
       "    <tr>\n",
       "      <th>Date</th>\n",
       "      <th></th>\n",
       "      <th></th>\n",
       "      <th></th>\n",
       "      <th></th>\n",
       "      <th></th>\n",
       "      <th></th>\n",
       "    </tr>\n",
       "  </thead>\n",
       "  <tbody>\n",
       "    <tr>\n",
       "      <th>2016-12-05</th>\n",
       "      <td>NaN</td>\n",
       "      <td>NaN</td>\n",
       "      <td>NaN</td>\n",
       "      <td>NaN</td>\n",
       "      <td>NaN</td>\n",
       "      <td>NaN</td>\n",
       "    </tr>\n",
       "    <tr>\n",
       "      <th>2016-12-06</th>\n",
       "      <td>NaN</td>\n",
       "      <td>0.053867</td>\n",
       "      <td>0.038642</td>\n",
       "      <td>0.019849</td>\n",
       "      <td>0.033747</td>\n",
       "      <td>0.040611</td>\n",
       "    </tr>\n",
       "    <tr>\n",
       "      <th>2016-12-07</th>\n",
       "      <td>NaN</td>\n",
       "      <td>0.000485</td>\n",
       "      <td>0.017768</td>\n",
       "      <td>0.015752</td>\n",
       "      <td>0.046749</td>\n",
       "      <td>0.009649</td>\n",
       "    </tr>\n",
       "    <tr>\n",
       "      <th>2016-12-08</th>\n",
       "      <td>NaN</td>\n",
       "      <td>0.000749</td>\n",
       "      <td>0.006858</td>\n",
       "      <td>0.052810</td>\n",
       "      <td>-0.023311</td>\n",
       "      <td>0.038306</td>\n",
       "    </tr>\n",
       "    <tr>\n",
       "      <th>2016-12-09</th>\n",
       "      <td>NaN</td>\n",
       "      <td>0.012319</td>\n",
       "      <td>-0.048381</td>\n",
       "      <td>0.025101</td>\n",
       "      <td>0.039790</td>\n",
       "      <td>-0.003897</td>\n",
       "    </tr>\n",
       "  </tbody>\n",
       "</table>\n",
       "</div>"
      ],
      "text/plain": [
       "            R22       PKN       PEO       PZU       KGH       PKO\n",
       "Date                                                             \n",
       "2016-12-05  NaN       NaN       NaN       NaN       NaN       NaN\n",
       "2016-12-06  NaN  0.053867  0.038642  0.019849  0.033747  0.040611\n",
       "2016-12-07  NaN  0.000485  0.017768  0.015752  0.046749  0.009649\n",
       "2016-12-08  NaN  0.000749  0.006858  0.052810 -0.023311  0.038306\n",
       "2016-12-09  NaN  0.012319 -0.048381  0.025101  0.039790 -0.003897"
      ]
     },
     "execution_count": 25,
     "metadata": {},
     "output_type": "execute_result"
    }
   ],
   "source": [
    "stock_daily_ret = stocks.pct_change(1)\n",
    "stock_daily_ret.head()"
   ]
  },
  {
   "cell_type": "code",
   "execution_count": 26,
   "metadata": {},
   "outputs": [
    {
     "data": {
      "text/html": [
       "<div>\n",
       "<style scoped>\n",
       "    .dataframe tbody tr th:only-of-type {\n",
       "        vertical-align: middle;\n",
       "    }\n",
       "\n",
       "    .dataframe tbody tr th {\n",
       "        vertical-align: top;\n",
       "    }\n",
       "\n",
       "    .dataframe thead th {\n",
       "        text-align: right;\n",
       "    }\n",
       "</style>\n",
       "<table border=\"1\" class=\"dataframe\">\n",
       "  <thead>\n",
       "    <tr style=\"text-align: right;\">\n",
       "      <th></th>\n",
       "      <th>R22</th>\n",
       "      <th>PKN</th>\n",
       "      <th>PEO</th>\n",
       "      <th>PZU</th>\n",
       "      <th>KGH</th>\n",
       "      <th>PKO</th>\n",
       "    </tr>\n",
       "    <tr>\n",
       "      <th>Date</th>\n",
       "      <th></th>\n",
       "      <th></th>\n",
       "      <th></th>\n",
       "      <th></th>\n",
       "      <th></th>\n",
       "      <th></th>\n",
       "    </tr>\n",
       "  </thead>\n",
       "  <tbody>\n",
       "    <tr>\n",
       "      <th>2016-12-05</th>\n",
       "      <td>NaN</td>\n",
       "      <td>NaN</td>\n",
       "      <td>NaN</td>\n",
       "      <td>NaN</td>\n",
       "      <td>NaN</td>\n",
       "      <td>NaN</td>\n",
       "    </tr>\n",
       "    <tr>\n",
       "      <th>2016-12-06</th>\n",
       "      <td>NaN</td>\n",
       "      <td>0.052466</td>\n",
       "      <td>0.037914</td>\n",
       "      <td>0.019655</td>\n",
       "      <td>0.033190</td>\n",
       "      <td>0.039808</td>\n",
       "    </tr>\n",
       "    <tr>\n",
       "      <th>2016-12-07</th>\n",
       "      <td>NaN</td>\n",
       "      <td>0.000484</td>\n",
       "      <td>0.017612</td>\n",
       "      <td>0.015629</td>\n",
       "      <td>0.045689</td>\n",
       "      <td>0.009603</td>\n",
       "    </tr>\n",
       "    <tr>\n",
       "      <th>2016-12-08</th>\n",
       "      <td>NaN</td>\n",
       "      <td>0.000748</td>\n",
       "      <td>0.006835</td>\n",
       "      <td>0.051463</td>\n",
       "      <td>-0.023587</td>\n",
       "      <td>0.037590</td>\n",
       "    </tr>\n",
       "    <tr>\n",
       "      <th>2016-12-09</th>\n",
       "      <td>NaN</td>\n",
       "      <td>0.012244</td>\n",
       "      <td>-0.049591</td>\n",
       "      <td>0.024791</td>\n",
       "      <td>0.039019</td>\n",
       "      <td>-0.003905</td>\n",
       "    </tr>\n",
       "  </tbody>\n",
       "</table>\n",
       "</div>"
      ],
      "text/plain": [
       "            R22       PKN       PEO       PZU       KGH       PKO\n",
       "Date                                                             \n",
       "2016-12-05  NaN       NaN       NaN       NaN       NaN       NaN\n",
       "2016-12-06  NaN  0.052466  0.037914  0.019655  0.033190  0.039808\n",
       "2016-12-07  NaN  0.000484  0.017612  0.015629  0.045689  0.009603\n",
       "2016-12-08  NaN  0.000748  0.006835  0.051463 -0.023587  0.037590\n",
       "2016-12-09  NaN  0.012244 -0.049591  0.024791  0.039019 -0.003905"
      ]
     },
     "execution_count": 26,
     "metadata": {},
     "output_type": "execute_result"
    }
   ],
   "source": [
    "log_ret = np.log(stocks/stocks.shift(1))\n",
    "log_ret.head()"
   ]
  },
  {
   "cell_type": "code",
   "execution_count": 27,
   "metadata": {},
   "outputs": [
    {
     "data": {
      "image/png": "[encoded data removed]",
      "text/plain": [
       "<Figure size 864x432 with 6 Axes>"
      ]
     },
     "metadata": {
      "needs_background": "light"
     },
     "output_type": "display_data"
    }
   ],
   "source": [
    "log_ret.hist(bins=100,figsize=(12,6));\n",
    "plt.tight_layout()"
   ]
  },
  {
   "cell_type": "code",
   "execution_count": 28,
   "metadata": {},
   "outputs": [
    {
     "data": {
      "text/html": [
       "<div>\n",
       "<style scoped>\n",
       "    .dataframe tbody tr th:only-of-type {\n",
       "        vertical-align: middle;\n",
       "    }\n",
       "\n",
       "    .dataframe tbody tr th {\n",
       "        vertical-align: top;\n",
       "    }\n",
       "\n",
       "    .dataframe thead th {\n",
       "        text-align: right;\n",
       "    }\n",
       "</style>\n",
       "<table border=\"1\" class=\"dataframe\">\n",
       "  <thead>\n",
       "    <tr style=\"text-align: right;\">\n",
       "      <th></th>\n",
       "      <th>count</th>\n",
       "      <th>mean</th>\n",
       "      <th>std</th>\n",
       "      <th>min</th>\n",
       "      <th>25%</th>\n",
       "      <th>50%</th>\n",
       "      <th>75%</th>\n",
       "      <th>max</th>\n",
       "    </tr>\n",
       "  </thead>\n",
       "  <tbody>\n",
       "    <tr>\n",
       "      <th>R22</th>\n",
       "      <td>1031.0</td>\n",
       "      <td>0.000660</td>\n",
       "      <td>0.027710</td>\n",
       "      <td>-0.199266</td>\n",
       "      <td>-0.013942</td>\n",
       "      <td>0.000000</td>\n",
       "      <td>0.014065</td>\n",
       "      <td>0.130224</td>\n",
       "    </tr>\n",
       "    <tr>\n",
       "      <th>PKN</th>\n",
       "      <td>1299.0</td>\n",
       "      <td>0.000099</td>\n",
       "      <td>0.022582</td>\n",
       "      <td>-0.151253</td>\n",
       "      <td>-0.012095</td>\n",
       "      <td>0.000484</td>\n",
       "      <td>0.012625</td>\n",
       "      <td>0.136764</td>\n",
       "    </tr>\n",
       "    <tr>\n",
       "      <th>PEO</th>\n",
       "      <td>1299.0</td>\n",
       "      <td>0.000293</td>\n",
       "      <td>0.018852</td>\n",
       "      <td>-0.151380</td>\n",
       "      <td>-0.009158</td>\n",
       "      <td>0.000000</td>\n",
       "      <td>0.010054</td>\n",
       "      <td>0.090381</td>\n",
       "    </tr>\n",
       "    <tr>\n",
       "      <th>PZU</th>\n",
       "      <td>1299.0</td>\n",
       "      <td>0.000352</td>\n",
       "      <td>0.016963</td>\n",
       "      <td>-0.104678</td>\n",
       "      <td>-0.008669</td>\n",
       "      <td>0.000188</td>\n",
       "      <td>0.010428</td>\n",
       "      <td>0.072596</td>\n",
       "    </tr>\n",
       "    <tr>\n",
       "      <th>KGH</th>\n",
       "      <td>1299.0</td>\n",
       "      <td>0.000435</td>\n",
       "      <td>0.023330</td>\n",
       "      <td>-0.129956</td>\n",
       "      <td>-0.012715</td>\n",
       "      <td>0.000659</td>\n",
       "      <td>0.013554</td>\n",
       "      <td>0.115675</td>\n",
       "    </tr>\n",
       "    <tr>\n",
       "      <th>PKO</th>\n",
       "      <td>1299.0</td>\n",
       "      <td>0.000500</td>\n",
       "      <td>0.019217</td>\n",
       "      <td>-0.097447</td>\n",
       "      <td>-0.011198</td>\n",
       "      <td>0.000567</td>\n",
       "      <td>0.011703</td>\n",
       "      <td>0.087244</td>\n",
       "    </tr>\n",
       "  </tbody>\n",
       "</table>\n",
       "</div>"
      ],
      "text/plain": [
       "      count      mean       std       min       25%       50%       75%  \\\n",
       "R22  1031.0  0.000660  0.027710 -0.199266 -0.013942  0.000000  0.014065   \n",
       "PKN  1299.0  0.000099  0.022582 -0.151253 -0.012095  0.000484  0.012625   \n",
       "PEO  1299.0  0.000293  0.018852 -0.151380 -0.009158  0.000000  0.010054   \n",
       "PZU  1299.0  0.000352  0.016963 -0.104678 -0.008669  0.000188  0.010428   \n",
       "KGH  1299.0  0.000435  0.023330 -0.129956 -0.012715  0.000659  0.013554   \n",
       "PKO  1299.0  0.000500  0.019217 -0.097447 -0.011198  0.000567  0.011703   \n",
       "\n",
       "          max  \n",
       "R22  0.130224  \n",
       "PKN  0.136764  \n",
       "PEO  0.090381  \n",
       "PZU  0.072596  \n",
       "KGH  0.115675  \n",
       "PKO  0.087244  "
      ]
     },
     "execution_count": 28,
     "metadata": {},
     "output_type": "execute_result"
    }
   ],
   "source": [
    "log_ret.describe().transpose()"
   ]
  },
  {
   "cell_type": "code",
   "execution_count": 29,
   "metadata": {},
   "outputs": [
    {
     "data": {
      "text/plain": [
       "R22    0.166310\n",
       "PKN    0.024973\n",
       "PEO    0.073801\n",
       "PZU    0.088635\n",
       "KGH    0.109707\n",
       "PKO    0.126056\n",
       "dtype: float64"
      ]
     },
     "execution_count": 29,
     "metadata": {},
     "output_type": "execute_result"
    }
   ],
   "source": [
    "log_ret.mean() * 252"
   ]
  },
  {
   "cell_type": "code",
   "execution_count": 30,
   "metadata": {},
   "outputs": [
    {
     "data": {
      "text/html": [
       "<div>\n",
       "<style scoped>\n",
       "    .dataframe tbody tr th:only-of-type {\n",
       "        vertical-align: middle;\n",
       "    }\n",
       "\n",
       "    .dataframe tbody tr th {\n",
       "        vertical-align: top;\n",
       "    }\n",
       "\n",
       "    .dataframe thead th {\n",
       "        text-align: right;\n",
       "    }\n",
       "</style>\n",
       "<table border=\"1\" class=\"dataframe\">\n",
       "  <thead>\n",
       "    <tr style=\"text-align: right;\">\n",
       "      <th></th>\n",
       "      <th>R22</th>\n",
       "      <th>PKN</th>\n",
       "      <th>PEO</th>\n",
       "      <th>PZU</th>\n",
       "      <th>KGH</th>\n",
       "      <th>PKO</th>\n",
       "    </tr>\n",
       "  </thead>\n",
       "  <tbody>\n",
       "    <tr>\n",
       "      <th>R22</th>\n",
       "      <td>0.193491</td>\n",
       "      <td>0.031842</td>\n",
       "      <td>0.027381</td>\n",
       "      <td>0.021704</td>\n",
       "      <td>0.038030</td>\n",
       "      <td>0.024637</td>\n",
       "    </tr>\n",
       "    <tr>\n",
       "      <th>PKN</th>\n",
       "      <td>0.031842</td>\n",
       "      <td>0.128505</td>\n",
       "      <td>0.042448</td>\n",
       "      <td>0.039166</td>\n",
       "      <td>0.048958</td>\n",
       "      <td>0.042570</td>\n",
       "    </tr>\n",
       "    <tr>\n",
       "      <th>PEO</th>\n",
       "      <td>0.027381</td>\n",
       "      <td>0.042448</td>\n",
       "      <td>0.089561</td>\n",
       "      <td>0.044483</td>\n",
       "      <td>0.043795</td>\n",
       "      <td>0.066914</td>\n",
       "    </tr>\n",
       "    <tr>\n",
       "      <th>PZU</th>\n",
       "      <td>0.021704</td>\n",
       "      <td>0.039166</td>\n",
       "      <td>0.044483</td>\n",
       "      <td>0.072514</td>\n",
       "      <td>0.040701</td>\n",
       "      <td>0.048398</td>\n",
       "    </tr>\n",
       "    <tr>\n",
       "      <th>KGH</th>\n",
       "      <td>0.038030</td>\n",
       "      <td>0.048958</td>\n",
       "      <td>0.043795</td>\n",
       "      <td>0.040701</td>\n",
       "      <td>0.137166</td>\n",
       "      <td>0.046513</td>\n",
       "    </tr>\n",
       "    <tr>\n",
       "      <th>PKO</th>\n",
       "      <td>0.024637</td>\n",
       "      <td>0.042570</td>\n",
       "      <td>0.066914</td>\n",
       "      <td>0.048398</td>\n",
       "      <td>0.046513</td>\n",
       "      <td>0.093062</td>\n",
       "    </tr>\n",
       "  </tbody>\n",
       "</table>\n",
       "</div>"
      ],
      "text/plain": [
       "          R22       PKN       PEO       PZU       KGH       PKO\n",
       "R22  0.193491  0.031842  0.027381  0.021704  0.038030  0.024637\n",
       "PKN  0.031842  0.128505  0.042448  0.039166  0.048958  0.042570\n",
       "PEO  0.027381  0.042448  0.089561  0.044483  0.043795  0.066914\n",
       "PZU  0.021704  0.039166  0.044483  0.072514  0.040701  0.048398\n",
       "KGH  0.038030  0.048958  0.043795  0.040701  0.137166  0.046513\n",
       "PKO  0.024637  0.042570  0.066914  0.048398  0.046513  0.093062"
      ]
     },
     "execution_count": 30,
     "metadata": {},
     "output_type": "execute_result"
    }
   ],
   "source": [
    "log_ret.cov()*252 # multiply by days"
   ]
  },
  {
   "cell_type": "code",
   "execution_count": 31,
   "metadata": {},
   "outputs": [
    {
     "name": "stdout",
     "output_type": "stream",
     "text": [
      "Stocks\n",
      "Index(['R22', 'PKN', 'PEO', 'PZU', 'KGH', 'PKO'], dtype='object')\n",
      "\n",
      "\n",
      "Creating Random Weights\n",
      "[0.51639863 0.57066759 0.02847423 0.17152166 0.68527698 0.83389686]\n",
      "\n",
      "\n",
      "Rebalance to sum to 1.0\n",
      "[0.18401825 0.20335695 0.01014677 0.06112161 0.24419792 0.2971585 ]\n",
      "\n",
      "\n",
      "Expected Portfolio Return\n",
      "0.10609764340240196\n",
      "\n",
      "\n",
      "Expected Volatility\n",
      "0.24328005936181313\n",
      "\n",
      "\n",
      "Sharpe Ratio\n",
      "0.43611319267482784\n"
     ]
    }
   ],
   "source": [
    "# Set seed (optional)\n",
    "np.random.seed(101)\n",
    "\n",
    "# Stock Columns\n",
    "print('Stocks')\n",
    "print(stocks.columns)\n",
    "print('\\n')\n",
    "\n",
    "# Create Random Weights\n",
    "print('Creating Random Weights')\n",
    "weights = np.array(np.random.random(6))\n",
    "print(weights)\n",
    "print('\\n')\n",
    "\n",
    "# Rebalance Weights\n",
    "print('Rebalance to sum to 1.0')\n",
    "weights = weights / np.sum(weights)\n",
    "print(weights)\n",
    "print('\\n')\n",
    "\n",
    "# Expected Return\n",
    "print('Expected Portfolio Return')\n",
    "exp_ret = np.sum(log_ret.mean() * weights) *252\n",
    "print(exp_ret)\n",
    "print('\\n')\n",
    "\n",
    "# Expected Variance\n",
    "print('Expected Volatility')\n",
    "exp_vol = np.sqrt(np.dot(weights.T, np.dot(log_ret.cov() * 252, weights)))\n",
    "print(exp_vol)\n",
    "print('\\n')\n",
    "\n",
    "# Sharpe Ratio\n",
    "SR = exp_ret/exp_vol\n",
    "print('Sharpe Ratio')\n",
    "print(SR)\n"
   ]
  },
  {
   "cell_type": "code",
   "execution_count": 32,
   "metadata": {},
   "outputs": [],
   "source": [
    "num_ports = 15000\n",
    "\n",
    "all_weights = np.zeros((num_ports,len(stocks.columns)))\n",
    "ret_arr = np.zeros(num_ports)\n",
    "vol_arr = np.zeros(num_ports)\n",
    "sharpe_arr = np.zeros(num_ports)\n",
    "\n",
    "for ind in range(num_ports):\n",
    "\n",
    "    # Create Random Weights\n",
    "    weights = np.array(np.random.random(6))\n",
    "\n",
    "    # Rebalance Weights\n",
    "    weights = weights / np.sum(weights)\n",
    "    \n",
    "    # Save Weights\n",
    "    all_weights[ind,:] = weights\n",
    "\n",
    "    # Expected Return\n",
    "    ret_arr[ind] = np.sum((log_ret.mean() * weights) *252)\n",
    "\n",
    "    # Expected Variance\n",
    "    vol_arr[ind] = np.sqrt(np.dot(weights.T, np.dot(log_ret.cov() * 252, weights)))\n",
    "\n",
    "    # Sharpe Ratio\n",
    "    sharpe_arr[ind] = ret_arr[ind]/vol_arr[ind]"
   ]
  },
  {
   "cell_type": "code",
   "execution_count": 33,
   "metadata": {},
   "outputs": [
    {
     "data": {
      "text/plain": [
       "0.5156066306039118"
      ]
     },
     "execution_count": 33,
     "metadata": {},
     "output_type": "execute_result"
    }
   ],
   "source": [
    "sharpe_arr.max()"
   ]
  },
  {
   "cell_type": "code",
   "execution_count": 34,
   "metadata": {},
   "outputs": [
    {
     "data": {
      "text/plain": [
       "139"
      ]
     },
     "execution_count": 34,
     "metadata": {},
     "output_type": "execute_result"
    }
   ],
   "source": [
    "sharpe_arr.argmax()"
   ]
  },
  {
   "cell_type": "code",
   "execution_count": 35,
   "metadata": {},
   "outputs": [
    {
     "data": {
      "text/plain": [
       "array([0.0133123 , 0.24627515, 0.21112681, 0.06228384, 0.25299761,\n",
       "       0.21400429])"
      ]
     },
     "execution_count": 35,
     "metadata": {},
     "output_type": "execute_result"
    }
   ],
   "source": [
    "max_sr_ret = ret_arr[sharpe_arr.argmax()]\n",
    "max_sr_vol = vol_arr[sharpe_arr.argmax()]\n",
    "all_weights[1419,:]"
   ]
  },
  {
   "cell_type": "code",
   "execution_count": 36,
   "metadata": {},
   "outputs": [
    {
     "data": {
      "text/plain": [
       "0.1302097610080858"
      ]
     },
     "execution_count": 36,
     "metadata": {},
     "output_type": "execute_result"
    }
   ],
   "source": [
    "max_sr_ret"
   ]
  },
  {
   "cell_type": "code",
   "execution_count": 37,
   "metadata": {},
   "outputs": [
    {
     "data": {
      "text/plain": [
       "0.2525370181054028"
      ]
     },
     "execution_count": 37,
     "metadata": {},
     "output_type": "execute_result"
    }
   ],
   "source": [
    "max_sr_vol"
   ]
  },
  {
   "cell_type": "code",
   "execution_count": 38,
   "metadata": {},
   "outputs": [
    {
     "data": {
      "text/plain": [
       "<matplotlib.collections.PathCollection at 0x1c822915b08>"
      ]
     },
     "execution_count": 38,
     "metadata": {},
     "output_type": "execute_result"
    },
    {
     "data": {
      "image/png": "[encoded data removed]",
      "text/plain": [
       "<Figure size 864x576 with 2 Axes>"
      ]
     },
     "metadata": {
      "needs_background": "light"
     },
     "output_type": "display_data"
    }
   ],
   "source": [
    "plt.figure(figsize=(12,8))\n",
    "plt.scatter(vol_arr,ret_arr,c=sharpe_arr,cmap='plasma')\n",
    "plt.colorbar(label='Sharpe Ratio')\n",
    "plt.xlabel('Volatility')\n",
    "plt.ylabel('Return')\n",
    "\n",
    "# Add red dot for max SR\n",
    "plt.scatter(max_sr_vol,max_sr_ret,c='red',s=50,edgecolors='black')"
   ]
  },
  {
   "cell_type": "code",
   "execution_count": 39,
   "metadata": {},
   "outputs": [
    {
     "data": {
      "text/html": [
       "<div>\n",
       "<style scoped>\n",
       "    .dataframe tbody tr th:only-of-type {\n",
       "        vertical-align: middle;\n",
       "    }\n",
       "\n",
       "    .dataframe tbody tr th {\n",
       "        vertical-align: top;\n",
       "    }\n",
       "\n",
       "    .dataframe thead th {\n",
       "        text-align: right;\n",
       "    }\n",
       "</style>\n",
       "<table border=\"1\" class=\"dataframe\">\n",
       "  <thead>\n",
       "    <tr style=\"text-align: right;\">\n",
       "      <th></th>\n",
       "      <th>Open</th>\n",
       "      <th>High</th>\n",
       "      <th>Low</th>\n",
       "      <th>Close</th>\n",
       "      <th>Volume</th>\n",
       "    </tr>\n",
       "    <tr>\n",
       "      <th>Date</th>\n",
       "      <th></th>\n",
       "      <th></th>\n",
       "      <th></th>\n",
       "      <th></th>\n",
       "      <th></th>\n",
       "    </tr>\n",
       "  </thead>\n",
       "  <tbody>\n",
       "    <tr>\n",
       "      <th>2017-12-29</th>\n",
       "      <td>21.902</td>\n",
       "      <td>21.902</td>\n",
       "      <td>17.761</td>\n",
       "      <td>17.925</td>\n",
       "      <td>28927</td>\n",
       "    </tr>\n",
       "    <tr>\n",
       "      <th>2018-01-03</th>\n",
       "      <td>17.945</td>\n",
       "      <td>17.945</td>\n",
       "      <td>16.989</td>\n",
       "      <td>17.375</td>\n",
       "      <td>6484</td>\n",
       "    </tr>\n",
       "    <tr>\n",
       "      <th>2018-01-04</th>\n",
       "      <td>17.424</td>\n",
       "      <td>17.424</td>\n",
       "      <td>16.024</td>\n",
       "      <td>16.940</td>\n",
       "      <td>8904</td>\n",
       "    </tr>\n",
       "    <tr>\n",
       "      <th>2018-01-05</th>\n",
       "      <td>17.761</td>\n",
       "      <td>17.761</td>\n",
       "      <td>17.655</td>\n",
       "      <td>17.655</td>\n",
       "      <td>129</td>\n",
       "    </tr>\n",
       "    <tr>\n",
       "      <th>2018-01-08</th>\n",
       "      <td>17.858</td>\n",
       "      <td>18.331</td>\n",
       "      <td>17.375</td>\n",
       "      <td>17.375</td>\n",
       "      <td>2275</td>\n",
       "    </tr>\n",
       "  </tbody>\n",
       "</table>\n",
       "</div>"
      ],
      "text/plain": [
       "              Open    High     Low   Close  Volume\n",
       "Date                                              \n",
       "2017-12-29  21.902  21.902  17.761  17.925   28927\n",
       "2018-01-03  17.945  17.945  16.989  17.375    6484\n",
       "2018-01-04  17.424  17.424  16.024  16.940    8904\n",
       "2018-01-05  17.761  17.761  17.655  17.655     129\n",
       "2018-01-08  17.858  18.331  17.375  17.375    2275"
      ]
     },
     "execution_count": 39,
     "metadata": {},
     "output_type": "execute_result"
    }
   ],
   "source": [
    "R22_end.head()"
   ]
  },
  {
   "cell_type": "code",
   "execution_count": 40,
   "metadata": {},
   "outputs": [
    {
     "name": "stderr",
     "output_type": "stream",
     "text": [
      "C:\\Users\\48503\\anaconda3\\lib\\site-packages\\ipykernel_launcher.py:2: SettingWithCopyWarning: \n",
      "A value is trying to be set on a copy of a slice from a DataFrame.\n",
      "Try using .loc[row_indexer,col_indexer] = value instead\n",
      "\n",
      "See the caveats in the documentation: https://pandas.pydata.org/pandas-docs/stable/user_guide/indexing.html#returning-a-view-versus-a-copy\n",
      "  \n"
     ]
    }
   ],
   "source": [
    "for stock_df in (R22_end,PKN_end,PEO_end, PZU_end, KGH_end, PKO_end):\n",
    "    stock_df['Normed Return'] = stock_df['Open']/stock_df.iloc[0]['Open']\n"
   ]
  },
  {
   "cell_type": "code",
   "execution_count": 41,
   "metadata": {},
   "outputs": [
    {
     "name": "stderr",
     "output_type": "stream",
     "text": [
      "C:\\Users\\48503\\anaconda3\\lib\\site-packages\\ipykernel_launcher.py:2: SettingWithCopyWarning: \n",
      "A value is trying to be set on a copy of a slice from a DataFrame.\n",
      "Try using .loc[row_indexer,col_indexer] = value instead\n",
      "\n",
      "See the caveats in the documentation: https://pandas.pydata.org/pandas-docs/stable/user_guide/indexing.html#returning-a-view-versus-a-copy\n",
      "  \n"
     ]
    }
   ],
   "source": [
    "for stock_df,allo in zip([R22_end,PKN_end,PEO_end, PZU_end, KGH_end, PKO_end],[.1,.25,.2,.05,0.2,0.2]):\n",
    "    stock_df['Allocation'] = stock_df['Normed Return']*allo"
   ]
  },
  {
   "cell_type": "code",
   "execution_count": 42,
   "metadata": {},
   "outputs": [
    {
     "name": "stderr",
     "output_type": "stream",
     "text": [
      "C:\\Users\\48503\\anaconda3\\lib\\site-packages\\ipykernel_launcher.py:2: SettingWithCopyWarning: \n",
      "A value is trying to be set on a copy of a slice from a DataFrame.\n",
      "Try using .loc[row_indexer,col_indexer] = value instead\n",
      "\n",
      "See the caveats in the documentation: https://pandas.pydata.org/pandas-docs/stable/user_guide/indexing.html#returning-a-view-versus-a-copy\n",
      "  \n"
     ]
    }
   ],
   "source": [
    "for stock_df in [R22_end,PKN_end,PEO_end, PZU_end, KGH_end, PKO_end]:\n",
    "    stock_df['Position Values'] = stock_df['Allocation']*20000"
   ]
  },
  {
   "cell_type": "code",
   "execution_count": 43,
   "metadata": {},
   "outputs": [],
   "source": [
    "portfolio_val = pd.concat([R22_end['Position Values'],PKN_end['Position Values'],PEO_end['Position Values'],PZU_end['Position Values'],KGH_end['Position Values'],PKO_end['Position Values']],axis=1)"
   ]
  },
  {
   "cell_type": "code",
   "execution_count": 44,
   "metadata": {},
   "outputs": [
    {
     "data": {
      "text/html": [
       "<div>\n",
       "<style scoped>\n",
       "    .dataframe tbody tr th:only-of-type {\n",
       "        vertical-align: middle;\n",
       "    }\n",
       "\n",
       "    .dataframe tbody tr th {\n",
       "        vertical-align: top;\n",
       "    }\n",
       "\n",
       "    .dataframe thead th {\n",
       "        text-align: right;\n",
       "    }\n",
       "</style>\n",
       "<table border=\"1\" class=\"dataframe\">\n",
       "  <thead>\n",
       "    <tr style=\"text-align: right;\">\n",
       "      <th></th>\n",
       "      <th>Position Values</th>\n",
       "      <th>Position Values</th>\n",
       "      <th>Position Values</th>\n",
       "      <th>Position Values</th>\n",
       "      <th>Position Values</th>\n",
       "      <th>Position Values</th>\n",
       "    </tr>\n",
       "    <tr>\n",
       "      <th>Date</th>\n",
       "      <th></th>\n",
       "      <th></th>\n",
       "      <th></th>\n",
       "      <th></th>\n",
       "      <th></th>\n",
       "      <th></th>\n",
       "    </tr>\n",
       "  </thead>\n",
       "  <tbody>\n",
       "    <tr>\n",
       "      <th>2016-12-05</th>\n",
       "      <td>NaN</td>\n",
       "      <td>5000.000000</td>\n",
       "      <td>4000.000000</td>\n",
       "      <td>1000.000000</td>\n",
       "      <td>4000.000000</td>\n",
       "      <td>4000.000000</td>\n",
       "    </tr>\n",
       "    <tr>\n",
       "      <th>2016-12-06</th>\n",
       "      <td>NaN</td>\n",
       "      <td>5269.335520</td>\n",
       "      <td>4154.569689</td>\n",
       "      <td>1019.849478</td>\n",
       "      <td>4134.986823</td>\n",
       "      <td>4162.442303</td>\n",
       "    </tr>\n",
       "    <tr>\n",
       "      <th>2016-12-07</th>\n",
       "      <td>NaN</td>\n",
       "      <td>5271.888830</td>\n",
       "      <td>4228.386901</td>\n",
       "      <td>1035.913912</td>\n",
       "      <td>4328.294525</td>\n",
       "      <td>4202.607499</td>\n",
       "    </tr>\n",
       "    <tr>\n",
       "      <th>2016-12-08</th>\n",
       "      <td>NaN</td>\n",
       "      <td>5275.834855</td>\n",
       "      <td>4257.384972</td>\n",
       "      <td>1090.621011</td>\n",
       "      <td>4227.396666</td>\n",
       "      <td>4363.592194</td>\n",
       "    </tr>\n",
       "    <tr>\n",
       "      <th>2016-12-09</th>\n",
       "      <td>NaN</td>\n",
       "      <td>5340.828201</td>\n",
       "      <td>4051.407642</td>\n",
       "      <td>1117.996567</td>\n",
       "      <td>4395.605399</td>\n",
       "      <td>4346.586768</td>\n",
       "    </tr>\n",
       "  </tbody>\n",
       "</table>\n",
       "</div>"
      ],
      "text/plain": [
       "            Position Values  Position Values  Position Values  \\\n",
       "Date                                                            \n",
       "2016-12-05              NaN      5000.000000      4000.000000   \n",
       "2016-12-06              NaN      5269.335520      4154.569689   \n",
       "2016-12-07              NaN      5271.888830      4228.386901   \n",
       "2016-12-08              NaN      5275.834855      4257.384972   \n",
       "2016-12-09              NaN      5340.828201      4051.407642   \n",
       "\n",
       "            Position Values  Position Values  Position Values  \n",
       "Date                                                           \n",
       "2016-12-05      1000.000000      4000.000000      4000.000000  \n",
       "2016-12-06      1019.849478      4134.986823      4162.442303  \n",
       "2016-12-07      1035.913912      4328.294525      4202.607499  \n",
       "2016-12-08      1090.621011      4227.396666      4363.592194  \n",
       "2016-12-09      1117.996567      4395.605399      4346.586768  "
      ]
     },
     "execution_count": 44,
     "metadata": {},
     "output_type": "execute_result"
    }
   ],
   "source": [
    "portfolio_val.head()"
   ]
  },
  {
   "cell_type": "code",
   "execution_count": 45,
   "metadata": {},
   "outputs": [],
   "source": [
    "portfolio_val.columns = ['R22','PKN','PEO','PZU','KGH','PKO']"
   ]
  },
  {
   "cell_type": "code",
   "execution_count": 46,
   "metadata": {},
   "outputs": [
    {
     "data": {
      "text/html": [
       "<div>\n",
       "<style scoped>\n",
       "    .dataframe tbody tr th:only-of-type {\n",
       "        vertical-align: middle;\n",
       "    }\n",
       "\n",
       "    .dataframe tbody tr th {\n",
       "        vertical-align: top;\n",
       "    }\n",
       "\n",
       "    .dataframe thead th {\n",
       "        text-align: right;\n",
       "    }\n",
       "</style>\n",
       "<table border=\"1\" class=\"dataframe\">\n",
       "  <thead>\n",
       "    <tr style=\"text-align: right;\">\n",
       "      <th></th>\n",
       "      <th>R22</th>\n",
       "      <th>PKN</th>\n",
       "      <th>PEO</th>\n",
       "      <th>PZU</th>\n",
       "      <th>KGH</th>\n",
       "      <th>PKO</th>\n",
       "    </tr>\n",
       "    <tr>\n",
       "      <th>Date</th>\n",
       "      <th></th>\n",
       "      <th></th>\n",
       "      <th></th>\n",
       "      <th></th>\n",
       "      <th></th>\n",
       "      <th></th>\n",
       "    </tr>\n",
       "  </thead>\n",
       "  <tbody>\n",
       "    <tr>\n",
       "      <th>2016-12-05</th>\n",
       "      <td>NaN</td>\n",
       "      <td>5000.000000</td>\n",
       "      <td>4000.000000</td>\n",
       "      <td>1000.000000</td>\n",
       "      <td>4000.000000</td>\n",
       "      <td>4000.000000</td>\n",
       "    </tr>\n",
       "    <tr>\n",
       "      <th>2016-12-06</th>\n",
       "      <td>NaN</td>\n",
       "      <td>5269.335520</td>\n",
       "      <td>4154.569689</td>\n",
       "      <td>1019.849478</td>\n",
       "      <td>4134.986823</td>\n",
       "      <td>4162.442303</td>\n",
       "    </tr>\n",
       "    <tr>\n",
       "      <th>2016-12-07</th>\n",
       "      <td>NaN</td>\n",
       "      <td>5271.888830</td>\n",
       "      <td>4228.386901</td>\n",
       "      <td>1035.913912</td>\n",
       "      <td>4328.294525</td>\n",
       "      <td>4202.607499</td>\n",
       "    </tr>\n",
       "    <tr>\n",
       "      <th>2016-12-08</th>\n",
       "      <td>NaN</td>\n",
       "      <td>5275.834855</td>\n",
       "      <td>4257.384972</td>\n",
       "      <td>1090.621011</td>\n",
       "      <td>4227.396666</td>\n",
       "      <td>4363.592194</td>\n",
       "    </tr>\n",
       "    <tr>\n",
       "      <th>2016-12-09</th>\n",
       "      <td>NaN</td>\n",
       "      <td>5340.828201</td>\n",
       "      <td>4051.407642</td>\n",
       "      <td>1117.996567</td>\n",
       "      <td>4395.605399</td>\n",
       "      <td>4346.586768</td>\n",
       "    </tr>\n",
       "  </tbody>\n",
       "</table>\n",
       "</div>"
      ],
      "text/plain": [
       "            R22          PKN          PEO          PZU          KGH  \\\n",
       "Date                                                                  \n",
       "2016-12-05  NaN  5000.000000  4000.000000  1000.000000  4000.000000   \n",
       "2016-12-06  NaN  5269.335520  4154.569689  1019.849478  4134.986823   \n",
       "2016-12-07  NaN  5271.888830  4228.386901  1035.913912  4328.294525   \n",
       "2016-12-08  NaN  5275.834855  4257.384972  1090.621011  4227.396666   \n",
       "2016-12-09  NaN  5340.828201  4051.407642  1117.996567  4395.605399   \n",
       "\n",
       "                    PKO  \n",
       "Date                     \n",
       "2016-12-05  4000.000000  \n",
       "2016-12-06  4162.442303  \n",
       "2016-12-07  4202.607499  \n",
       "2016-12-08  4363.592194  \n",
       "2016-12-09  4346.586768  "
      ]
     },
     "execution_count": 46,
     "metadata": {},
     "output_type": "execute_result"
    }
   ],
   "source": [
    "portfolio_val.head()"
   ]
  },
  {
   "cell_type": "code",
   "execution_count": 47,
   "metadata": {},
   "outputs": [],
   "source": [
    "portfolio_val['Total'] = portfolio_val.sum(axis=1)"
   ]
  },
  {
   "cell_type": "code",
   "execution_count": 48,
   "metadata": {},
   "outputs": [
    {
     "data": {
      "text/html": [
       "<div>\n",
       "<style scoped>\n",
       "    .dataframe tbody tr th:only-of-type {\n",
       "        vertical-align: middle;\n",
       "    }\n",
       "\n",
       "    .dataframe tbody tr th {\n",
       "        vertical-align: top;\n",
       "    }\n",
       "\n",
       "    .dataframe thead th {\n",
       "        text-align: right;\n",
       "    }\n",
       "</style>\n",
       "<table border=\"1\" class=\"dataframe\">\n",
       "  <thead>\n",
       "    <tr style=\"text-align: right;\">\n",
       "      <th></th>\n",
       "      <th>R22</th>\n",
       "      <th>PKN</th>\n",
       "      <th>PEO</th>\n",
       "      <th>PZU</th>\n",
       "      <th>KGH</th>\n",
       "      <th>PKO</th>\n",
       "      <th>Total</th>\n",
       "    </tr>\n",
       "    <tr>\n",
       "      <th>Date</th>\n",
       "      <th></th>\n",
       "      <th></th>\n",
       "      <th></th>\n",
       "      <th></th>\n",
       "      <th></th>\n",
       "      <th></th>\n",
       "      <th></th>\n",
       "    </tr>\n",
       "  </thead>\n",
       "  <tbody>\n",
       "    <tr>\n",
       "      <th>2016-12-05</th>\n",
       "      <td>NaN</td>\n",
       "      <td>5000.000000</td>\n",
       "      <td>4000.000000</td>\n",
       "      <td>1000.000000</td>\n",
       "      <td>4000.000000</td>\n",
       "      <td>4000.000000</td>\n",
       "      <td>18000.000000</td>\n",
       "    </tr>\n",
       "    <tr>\n",
       "      <th>2016-12-06</th>\n",
       "      <td>NaN</td>\n",
       "      <td>5269.335520</td>\n",
       "      <td>4154.569689</td>\n",
       "      <td>1019.849478</td>\n",
       "      <td>4134.986823</td>\n",
       "      <td>4162.442303</td>\n",
       "      <td>18741.183813</td>\n",
       "    </tr>\n",
       "    <tr>\n",
       "      <th>2016-12-07</th>\n",
       "      <td>NaN</td>\n",
       "      <td>5271.888830</td>\n",
       "      <td>4228.386901</td>\n",
       "      <td>1035.913912</td>\n",
       "      <td>4328.294525</td>\n",
       "      <td>4202.607499</td>\n",
       "      <td>19067.091667</td>\n",
       "    </tr>\n",
       "    <tr>\n",
       "      <th>2016-12-08</th>\n",
       "      <td>NaN</td>\n",
       "      <td>5275.834855</td>\n",
       "      <td>4257.384972</td>\n",
       "      <td>1090.621011</td>\n",
       "      <td>4227.396666</td>\n",
       "      <td>4363.592194</td>\n",
       "      <td>19214.829699</td>\n",
       "    </tr>\n",
       "    <tr>\n",
       "      <th>2016-12-09</th>\n",
       "      <td>NaN</td>\n",
       "      <td>5340.828201</td>\n",
       "      <td>4051.407642</td>\n",
       "      <td>1117.996567</td>\n",
       "      <td>4395.605399</td>\n",
       "      <td>4346.586768</td>\n",
       "      <td>19252.424576</td>\n",
       "    </tr>\n",
       "  </tbody>\n",
       "</table>\n",
       "</div>"
      ],
      "text/plain": [
       "            R22          PKN          PEO          PZU          KGH  \\\n",
       "Date                                                                  \n",
       "2016-12-05  NaN  5000.000000  4000.000000  1000.000000  4000.000000   \n",
       "2016-12-06  NaN  5269.335520  4154.569689  1019.849478  4134.986823   \n",
       "2016-12-07  NaN  5271.888830  4228.386901  1035.913912  4328.294525   \n",
       "2016-12-08  NaN  5275.834855  4257.384972  1090.621011  4227.396666   \n",
       "2016-12-09  NaN  5340.828201  4051.407642  1117.996567  4395.605399   \n",
       "\n",
       "                    PKO         Total  \n",
       "Date                                   \n",
       "2016-12-05  4000.000000  18000.000000  \n",
       "2016-12-06  4162.442303  18741.183813  \n",
       "2016-12-07  4202.607499  19067.091667  \n",
       "2016-12-08  4363.592194  19214.829699  \n",
       "2016-12-09  4346.586768  19252.424576  "
      ]
     },
     "execution_count": 48,
     "metadata": {},
     "output_type": "execute_result"
    }
   ],
   "source": [
    "portfolio_val.head()"
   ]
  },
  {
   "cell_type": "code",
   "execution_count": 49,
   "metadata": {},
   "outputs": [
    {
     "data": {
      "text/plain": [
       "Text(0.5, 1.0, 'Total Portfolio Value')"
      ]
     },
     "execution_count": 49,
     "metadata": {},
     "output_type": "execute_result"
    },
    {
     "data": {
      "image/png": "[encoded data removed]",
      "text/plain": [
       "<Figure size 720x576 with 1 Axes>"
      ]
     },
     "metadata": {
      "needs_background": "light"
     },
     "output_type": "display_data"
    }
   ],
   "source": [
    "portfolio_val['Total'].plot(figsize=(10,8))\n",
    "plt.title('Total Portfolio Value')"
   ]
  },
  {
   "cell_type": "code",
   "execution_count": 50,
   "metadata": {},
   "outputs": [
    {
     "data": {
      "text/plain": [
       "<matplotlib.axes._subplots.AxesSubplot at 0x1c8225a2a88>"
      ]
     },
     "execution_count": 50,
     "metadata": {},
     "output_type": "execute_result"
    },
    {
     "data": {
      "image/png": "[encoded data removed]",
      "text/plain": [
       "<Figure size 432x288 with 1 Axes>"
      ]
     },
     "metadata": {
      "needs_background": "light"
     },
     "output_type": "display_data"
    }
   ],
   "source": [
    "portfolio_val.drop('Total',axis=1).plot(kind='line')"
   ]
  },
  {
   "cell_type": "code",
   "execution_count": null,
   "metadata": {},
   "outputs": [],
   "source": []
  }
 ],
 "metadata": {
  "kernelspec": {
   "display_name": "Python 3",
   "language": "python",
   "name": "python3"
  },
  "language_info": {
   "codemirror_mode": {
    "name": "ipython",
    "version": 3
   },
   "file_extension": ".py",
   "mimetype": "text/x-python",
   "name": "python",
   "nbconvert_exporter": "python",
   "pygments_lexer": "ipython3",
   "version": "3.7.6"
  }
 },
 "nbformat": 4,
 "nbformat_minor": 5
}
